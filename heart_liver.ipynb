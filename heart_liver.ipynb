{
 "cells": [
  {
   "cell_type": "markdown",
   "id": "aefe6a63-a588-437c-81f6-eb26a89e99c9",
   "metadata": {},
   "source": [
    "# Setup"
   ]
  },
  {
   "cell_type": "code",
   "execution_count": 6,
   "id": "6f945904-ce25-45c6-a942-ac4df2900402",
   "metadata": {},
   "outputs": [],
   "source": [
    "# Core libraries\n",
    "import anndata as ad\n",
    "import matplotlib.pyplot as plt\n",
    "import numpy as np\n",
    "import pandas as pd\n",
    "import scanpy as sc\n",
    "import mygene\n",
    "import scipy.sparse as sp\n",
    "from scipy.stats import spearmanr\n",
    "from adjustText import adjust_text\n",
    "import seaborn as sb\n",
    "\n",
    "mg = mygene.MyGeneInfo()\n",
    "sb.set_style(\"white\")"
   ]
  },
  {
   "cell_type": "markdown",
   "id": "8615cd90",
   "metadata": {},
   "source": [
    "# Read files"
   ]
  },
  {
   "cell_type": "code",
   "execution_count": 7,
   "id": "7b1b780b-fd89-4a0b-bcc2-1c6dd9ced54e",
   "metadata": {},
   "outputs": [],
   "source": [
    "liver = ad.read_h5ad('/home/yotamyan/data/liver/seperate_endo_model_cells.h5ad')\n",
    "heart = ad.read_h5ad('/home/yotamyan/data/heart/seperate_endo_model_cells.h5ad')"
   ]
  },
  {
   "cell_type": "markdown",
   "id": "505a54d1",
   "metadata": {},
   "source": [
    "# Convert ensemble IDs to gene symbols"
   ]
  },
  {
   "cell_type": "code",
   "execution_count": 8,
   "id": "b00953bf",
   "metadata": {},
   "outputs": [
    {
     "name": "stderr",
     "output_type": "stream",
     "text": [
      "Input sequence provided is already in string format. No operation performed\n",
      "Input sequence provided is already in string format. No operation performed\n"
     ]
    },
    {
     "name": "stdout",
     "output_type": "stream",
     "text": [
      "Found 7792 Ensembl IDs\n",
      "Found 0 Ensembl IDs\n"
     ]
    },
    {
     "name": "stderr",
     "output_type": "stream",
     "text": [
      "18 input query terms found dup hits:\t[('ENSG00000228044', 2), ('ENSG00000226506', 2), ('ENSG00000261600', 2), ('ENSG00000234162', 2), ('E\n",
      "621 input query terms found no hit:\t['ENSG00000238009', 'ENSG00000230699', 'ENSG00000241180', 'ENSG00000236948', 'ENSG00000226849', 'ENS\n",
      "Input sequence provided is already in string format. No operation performed\n",
      "Input sequence provided is already in string format. No operation performed\n"
     ]
    },
    {
     "name": "stdout",
     "output_type": "stream",
     "text": [
      "Index(['MIR1302-2HG', 'FAM138A', 'OR4F5', 'ENSG00000238009', 'ENSG00000239945',\n",
      "       'ENSG00000239906', 'ENSG00000241599', 'ENSG00000236601', 'OR4F29',\n",
      "       'ENSG00000235146'],\n",
      "      dtype='object')\n",
      "Index(['MIR1302-2HG', 'FAM138A', 'OR4F5', 'AL627309.1', 'AL627309.3',\n",
      "       'AL627309.2', 'AL627309.5', 'AL627309.4', 'AP006222.2', 'AL732372.1'],\n",
      "      dtype='object')\n"
     ]
    }
   ],
   "source": [
    "# Extract Ensembl IDs from heart.var_names\n",
    "ensembl_ids_heart = [gene for gene in heart.var_names if gene.startswith('ENSG')]\n",
    "ensembl_ids_liver = [gene for gene in liver.var_names if gene.startswith('ENSG')]\n",
    "\n",
    "print(f\"Found {len(ensembl_ids_heart)} Ensembl IDs\")\n",
    "print(f\"Found {len(ensembl_ids_liver)} Ensembl IDs\")\n",
    "\n",
    "# Strip version suffixes\n",
    "ensembl_ids_heart_clean = [gene.split('.')[0] for gene in ensembl_ids_heart]\n",
    "ensembl_ids_liver_clean = [gene.split('.')[0] for gene in ensembl_ids_liver]\n",
    "\n",
    "# Query MyGene\n",
    "query_result_heart = mg.querymany(\n",
    "    ensembl_ids_heart_clean,\n",
    "    scopes='ensembl.gene',\n",
    "    fields='symbol',\n",
    "    species='human'\n",
    ")\n",
    "\n",
    "query_result_liver = mg.querymany(\n",
    "    ensembl_ids_liver_clean,\n",
    "    scopes='ensembl.gene',\n",
    "    fields='symbol',\n",
    "    species='human'\n",
    ")\n",
    "\n",
    "# Build mapping\n",
    "ensembl_to_symbol_heart = {\n",
    "    entry['query']: entry.get('symbol', entry['query'])\n",
    "    for entry in query_result_heart\n",
    "}\n",
    "\n",
    "ensembl_to_symbol_liver = {\n",
    "    entry['query']: entry.get('symbol', entry['query'])\n",
    "    for entry in query_result_liver\n",
    "}\n",
    "\n",
    "# Replace var_names\n",
    "new_varnames_heart = [\n",
    "    ensembl_to_symbol_heart.get(gene.split('.')[0], gene)\n",
    "    if gene.startswith('ENSG') else gene\n",
    "    for gene in heart.var_names\n",
    "]\n",
    "heart.var_names = new_varnames_heart\n",
    "\n",
    "new_varnames_liver = [\n",
    "    ensembl_to_symbol_liver.get(gene.split('.')[0], gene)\n",
    "    if gene.startswith('ENSG') else gene\n",
    "    for gene in liver.var_names\n",
    "]\n",
    "liver.var_names = new_varnames_liver\n",
    "\n",
    "# Remove _ENSG suffixes\n",
    "heart.var_names = [name.split('_')[0] if '_' in name else name for name in heart.var_names]\n",
    "liver.var_names = [name.split('_')[0] if '_' in name else name for name in liver.var_names]\n",
    "\n",
    "# Check result\n",
    "print(heart.var_names[:10])\n",
    "print(liver.var_names[:10])"
   ]
  },
  {
   "cell_type": "markdown",
   "id": "d7cc25a4",
   "metadata": {},
   "source": [
    "# Check if F8 is present in both datasets"
   ]
  },
  {
   "cell_type": "code",
   "execution_count": 9,
   "id": "4382f788",
   "metadata": {},
   "outputs": [
    {
     "name": "stdout",
     "output_type": "stream",
     "text": [
      "True\n"
     ]
    }
   ],
   "source": [
    "print('F8' in heart.var_names and 'F8' in liver.var_names)"
   ]
  },
  {
   "cell_type": "markdown",
   "id": "253afc40",
   "metadata": {},
   "source": [
    "# Normalize and log-transform"
   ]
  },
  {
   "cell_type": "code",
   "execution_count": 10,
   "id": "e73bfa56",
   "metadata": {},
   "outputs": [],
   "source": [
    "sc.pp.normalize_total(liver, target_sum=1e4)\n",
    "sc.pp.log1p(liver)\n",
    "\n",
    "sc.pp.normalize_total(heart, target_sum=1e4)\n",
    "sc.pp.log1p(heart)"
   ]
  },
  {
   "cell_type": "markdown",
   "id": "fa5fe4fd",
   "metadata": {},
   "source": [
    "# Find highly expressed genes"
   ]
  },
  {
   "cell_type": "code",
   "execution_count": 11,
   "id": "5de5084d",
   "metadata": {},
   "outputs": [
    {
     "name": "stderr",
     "output_type": "stream",
     "text": [
      "/home/ofirr/miniforge3/envs/amosbase8/lib/python3.12/site-packages/IPython/core/interactiveshell.py:3577: SparseEfficiencyWarning: Comparing a sparse matrix with 0 using == is inefficient, try using != instead.\n",
      "  exec(code_obj, self.user_global_ns, self.user_ns)\n"
     ]
    },
    {
     "name": "stdout",
     "output_type": "stream",
     "text": [
      "Liver mean range: 0.0000–4.7215\n",
      "Heart mean range: 0.0000–2.7201\n",
      "Liver dropout range: 0.00–1.00\n",
      "Heart dropout range: 0.08–1.00\n",
      "Liver mean pass: 11660\n",
      "Heart mean pass: 10999\n",
      "Liver dropout pass: 5370\n",
      "Heart dropout pass: 2836\n"
     ]
    },
    {
     "data": {
      "image/png": "[encoded data removed]",
      "text/plain": [
       "<Figure size 1200x1000 with 4 Axes>"
      ]
     },
     "metadata": {},
     "output_type": "display_data"
    }
   ],
   "source": [
    "# MEASURE STATS ONLY\n",
    "mean_threshold = 0.02\n",
    "dropout_threshold = 0.85\n",
    "\n",
    "mean_expr_liver = liver.X.mean(axis=0).A1 if sp.issparse(liver.X) else liver.X.mean(axis=0)\n",
    "mean_expr_heart = heart.X.mean(axis=0).A1 if sp.issparse(heart.X) else heart.X.mean(axis=0)\n",
    "\n",
    "dropout_liver = (liver.X == 0).mean(axis=0).A1 if sp.issparse(liver.X) else (liver.X == 0).mean(axis=0)\n",
    "dropout_heart = (heart.X == 0).mean(axis=0).A1 if sp.issparse(heart.X) else (heart.X == 0).mean(axis=0)\n",
    "\n",
    "print(f\"Liver mean range: {mean_expr_liver.min():.4f}–{mean_expr_liver.max():.4f}\")\n",
    "print(f\"Heart mean range: {mean_expr_heart.min():.4f}–{mean_expr_heart.max():.4f}\")\n",
    "print(f\"Liver dropout range: {dropout_liver.min():.2f}–{dropout_liver.max():.2f}\")\n",
    "print(f\"Heart dropout range: {dropout_heart.min():.2f}–{dropout_heart.max():.2f}\")\n",
    "\n",
    "# Report number that *would* pass\n",
    "print(f\"Liver mean pass: {(mean_expr_liver > mean_threshold).sum()}\")\n",
    "print(f\"Heart mean pass: {(mean_expr_heart > mean_threshold).sum()}\")\n",
    "print(f\"Liver dropout pass: {(dropout_liver < dropout_threshold).sum()}\")\n",
    "print(f\"Heart dropout pass: {(dropout_heart < dropout_threshold).sum()}\")\n",
    "\n",
    "# PLOT\n",
    "fig, axs = plt.subplots(2, 2, figsize=(12, 10))\n",
    "axs[0,0].hist(mean_expr_liver, bins=100, color='green', alpha=0.7)\n",
    "axs[0,0].axvline(mean_threshold, color='red', linestyle='--')\n",
    "axs[0,0].set_title('Liver Mean Expression')\n",
    "\n",
    "axs[0,1].hist(mean_expr_heart, bins=100, color='blue', alpha=0.7)\n",
    "axs[0,1].axvline(mean_threshold, color='red', linestyle='--')\n",
    "axs[0,1].set_title('Heart Mean Expression')\n",
    "\n",
    "axs[1,0].hist(dropout_liver, bins=100, color='green', alpha=0.7)\n",
    "axs[1,0].axvline(dropout_threshold, color='red', linestyle='--')\n",
    "axs[1,0].set_title('Liver Dropout Fraction')\n",
    "\n",
    "axs[1,1].hist(dropout_heart, bins=100, color='blue', alpha=0.7)\n",
    "axs[1,1].axvline(dropout_threshold, color='red', linestyle='--')\n",
    "axs[1,1].set_title('Heart Dropout Fraction')\n",
    "\n",
    "plt.tight_layout()\n",
    "plt.show()"
   ]
  },
  {
   "cell_type": "markdown",
   "id": "d5078843",
   "metadata": {},
   "source": [
    "# Filter"
   ]
  },
  {
   "cell_type": "code",
   "execution_count": 12,
   "id": "c8f3f264",
   "metadata": {},
   "outputs": [
    {
     "name": "stdout",
     "output_type": "stream",
     "text": [
      "Liver genes retained: 5370\n",
      "Heart genes retained: 2836\n"
     ]
    }
   ],
   "source": [
    "# APPLY FILTERING\n",
    "liver_mean_mask = mean_expr_liver > mean_threshold\n",
    "heart_mean_mask = mean_expr_heart > mean_threshold\n",
    "\n",
    "liver_dropout_mask = dropout_liver < dropout_threshold\n",
    "heart_dropout_mask = dropout_heart < dropout_threshold\n",
    "\n",
    "liver_final_mask = liver_mean_mask & liver_dropout_mask\n",
    "heart_final_mask = heart_mean_mask & heart_dropout_mask\n",
    "\n",
    "print(f\"Liver genes retained: {liver_final_mask.sum()}\")\n",
    "print(f\"Heart genes retained: {heart_final_mask.sum()}\")\n",
    "\n",
    "# Filter AnnData\n",
    "liver = liver[:, liver_final_mask]\n",
    "heart = heart[:, heart_final_mask]"
   ]
  },
  {
   "cell_type": "code",
   "execution_count": 13,
   "id": "d4748998",
   "metadata": {},
   "outputs": [
    {
     "name": "stdout",
     "output_type": "stream",
     "text": [
      "Filtered liver shape: (22991, 5370)\n",
      "Filtered heart shape: (56747, 2836)\n",
      "Filtered liver_X shape: (22991, 5370)\n",
      "Filtered heart_X shape: (56747, 2836)\n"
     ]
    }
   ],
   "source": [
    "print(f\"Filtered liver shape: {liver.shape}\")\n",
    "print(f\"Filtered heart shape: {heart.shape}\")\n",
    "\n",
    "# Re-extract matrices after filtering\n",
    "liver_X = liver.X.toarray()\n",
    "heart_X = heart.X.toarray()\n",
    "\n",
    "print(f\"Filtered liver_X shape: {liver_X.shape}\")\n",
    "print(f\"Filtered heart_X shape: {heart_X.shape}\")"
   ]
  },
  {
   "cell_type": "markdown",
   "id": "899518e8",
   "metadata": {},
   "source": [
    "# Spearman correlation"
   ]
  },
  {
   "cell_type": "code",
   "execution_count": 14,
   "id": "63679415",
   "metadata": {},
   "outputs": [
    {
     "name": "stdout",
     "output_type": "stream",
     "text": [
      "(5370,)\n",
      "(2836,)\n"
     ]
    }
   ],
   "source": [
    "# Compute Spearman correlations\n",
    "liver_df = pd.DataFrame(liver_X, columns=liver.var_names)\n",
    "heart_df = pd.DataFrame(heart_X, columns=heart.var_names)\n",
    "\n",
    "# Compute Spearman correlation with F8\n",
    "liver_spearman = liver_df.corrwith(liver_df['F8'], method='spearman')\n",
    "heart_spearman = heart_df.corrwith(heart_df['F8'], method='spearman')\n",
    "\n",
    "print(liver_spearman.shape)\n",
    "print(heart_spearman.shape)"
   ]
  },
  {
   "cell_type": "markdown",
   "id": "29701b8e",
   "metadata": {},
   "source": [
    "# Remove NaNs"
   ]
  },
  {
   "cell_type": "code",
   "execution_count": 15,
   "metadata": {},
   "outputs": [
    {
     "name": "stdout",
     "output_type": "stream",
     "text": [
      "0\n",
      "0\n"
     ]
    }
   ],
   "source": [
    "# Check how many NaNs\n",
    "print(np.isnan(liver_spearman).sum())\n",
    "print(np.isnan(heart_spearman).sum())\n",
    "\n",
    "# Mask and filter\n",
    "liver_valid_mask = ~np.isnan(liver_spearman)\n",
    "heart_valid_mask = ~np.isnan(heart_spearman)\n",
    "\n",
    "liver_spearman = liver_spearman[liver_valid_mask]\n",
    "heart_spearman = heart_spearman[heart_valid_mask]\n",
    "\n",
    "liver_genes = liver.var_names[liver_valid_mask]\n",
    "heart_genes = heart.var_names[heart_valid_mask]"
   ]
  },
  {
   "cell_type": "markdown",
   "id": "14f21996",
   "metadata": {},
   "source": [
    "# Find shared genes"
   ]
  },
  {
   "cell_type": "code",
   "execution_count": 16,
   "metadata": {},
   "outputs": [
    {
     "name": "stdout",
     "output_type": "stream",
     "text": [
      "Number of shared genes: 2715\n"
     ]
    }
   ],
   "source": [
    "liver_gene_set = set(liver_genes)\n",
    "heart_gene_set = set(heart_genes)\n",
    "\n",
    "shared_genes = liver_gene_set & heart_gene_set\n",
    "print(f\"Number of shared genes: {len(shared_genes)}\")"
   ]
  },
  {
   "cell_type": "code",
   "execution_count": 17,
   "metadata": {},
   "outputs": [
    {
     "name": "stdout",
     "output_type": "stream",
     "text": [
      "(2715,)\n",
      "(2715,)\n"
     ]
    },
    {
     "name": "stderr",
     "output_type": "stream",
     "text": [
      "/tmp/ipykernel_1189087/3456369544.py:10: FutureWarning: Series.__getitem__ treating keys as positions is deprecated. In a future version, integer keys will always be treated as labels (consistent with DataFrame behavior). To access a value by position, use `ser.iloc[pos]`\n",
      "  liver_corr_shared = liver_spearman[liver_indices]\n",
      "/tmp/ipykernel_1189087/3456369544.py:11: FutureWarning: Series.__getitem__ treating keys as positions is deprecated. In a future version, integer keys will always be treated as labels (consistent with DataFrame behavior). To access a value by position, use `ser.iloc[pos]`\n",
      "  heart_corr_shared = heart_spearman[heart_indices]\n"
     ]
    }
   ],
   "source": [
    "shared_genes_list = sorted(shared_genes)\n",
    "\n",
    "# Index lookup\n",
    "liver_gene_to_index = {gene: i for i, gene in enumerate(liver_genes)}\n",
    "heart_gene_to_index = {gene: i for i, gene in enumerate(heart_genes)}\n",
    "\n",
    "liver_indices = [liver_gene_to_index[gene] for gene in shared_genes_list]\n",
    "heart_indices = [heart_gene_to_index[gene] for gene in shared_genes_list]\n",
    "\n",
    "liver_corr_shared = liver_spearman[liver_indices]\n",
    "heart_corr_shared = heart_spearman[heart_indices]\n",
    "\n",
    "print(liver_corr_shared.shape)\n",
    "print(heart_corr_shared.shape)"
   ]
  },
  {
   "cell_type": "markdown",
   "id": "403fdae0",
   "metadata": {},
   "source": [
    "# Find liver-specific genes correlated to F8"
   ]
  },
  {
   "cell_type": "code",
   "execution_count": null,
   "metadata": {},
   "outputs": [],
   "source": [
    "# Set thresholds\n",
    "liver_threshold = 0.2\n",
    "heart_threshold = 0.05\n",
    "\n",
    "# Boolean mask\n",
    "liver_specific_mask = (liver_corr_shared > liver_threshold) & (heart_corr_shared < heart_threshold)\n",
    "\n",
    "# Gene list\n",
    "liver_specific_genes = [shared_genes_list[i] for i, flag in enumerate(liver_specific_mask) if flag]\n",
    "\n",
    "print(f\"Number of liver-specific F8 correlated genes: {len(liver_specific_genes)}\")\n",
    "print(liver_specific_genes[:10])"
   ]
  },
  {
   "cell_type": "markdown",
   "id": "2f04d6a7",
   "metadata": {},
   "source": [
    "# Correlation plot"
   ]
  },
  {
   "cell_type": "code",
   "execution_count": null,
   "metadata": {},
   "outputs": [],
   "source": [
    "plt.figure(figsize=(10, 10))\n",
    "\n",
    "# Plot all genes\n",
    "plt.scatter(\n",
    "    heart_corr_shared,\n",
    "    liver_corr_shared,\n",
    "    s=10,\n",
    "    alpha=0.3,\n",
    "    color='gray',\n",
    "    label='All genes'\n",
    ")\n",
    "\n",
    "# Plot liver-specific genes\n",
    "liver_specific_heart_corr = [heart_corr_shared[i] for i, flag in enumerate(liver_specific_mask) if flag]\n",
    "liver_specific_liver_corr = [liver_corr_shared[i] for i, flag in enumerate(liver_specific_mask) if flag]\n",
    "\n",
    "plt.scatter(\n",
    "    liver_specific_heart_corr,\n",
    "    liver_specific_liver_corr,\n",
    "    color='red',\n",
    "    s=30,\n",
    "    label='Liver-specific F8 partners'\n",
    ")\n",
    "\n",
    "# Threshold lines\n",
    "plt.axhline(y=liver_threshold, color='red', linestyle='--', label=f'Liver threshold = {liver_threshold}')\n",
    "plt.axvline(x=heart_threshold, color='blue', linestyle='--', label=f'Heart threshold = {heart_threshold}')\n",
    "\n",
    "# Add labels with adjustText to avoid overlap\n",
    "texts = []\n",
    "for x, y, gene in zip(liver_specific_heart_corr, liver_specific_liver_corr, liver_specific_genes):\n",
    "    texts.append(plt.text(x, y, gene, fontsize=8, color='black'))\n",
    "adjust_text(texts, arrowprops=dict(arrowstyle='-', color='gray', lw=0.5))\n",
    "\n",
    "# Final plot formatting\n",
    "plt.xlabel('Heart correlation with F8')\n",
    "plt.ylabel('Liver correlation with F8')\n",
    "plt.title('F8 Correlation: Liver vs. Heart')\n",
    "plt.legend()\n",
    "plt.grid(True)\n",
    "plt.tight_layout()\n",
    "plt.show()"
   ]
  },
  {
   "cell_type": "markdown",
   "id": "ed7f506f",
   "metadata": {},
   "source": [
    "# Heat map"
   ]
  },
  {
   "cell_type": "code",
   "execution_count": null,
   "id": "377cbc5a",
   "metadata": {},
   "outputs": [],
   "source": [
    "import seaborn as sns\n",
    "\n",
    "# Extract only the liver-specific genes from shared data\n",
    "liver_spec_liver_corr = [liver_corr_shared[i] for i, flag in enumerate(liver_specific_mask) if flag]\n",
    "liver_spec_heart_corr = [heart_corr_shared[i] for i, flag in enumerate(liver_specific_mask) if flag]\n",
    "\n",
    "# Build DataFrame for heatmap\n",
    "heatmap_df = pd.DataFrame({\n",
    "    'Liver': liver_spec_liver_corr,\n",
    "    'Heart': liver_spec_heart_corr\n",
    "}, index=liver_specific_genes).T  # Transpose so tissues are rows\n",
    "\n",
    "plt.figure(figsize=(max(10, len(liver_specific_genes)//5), 4))\n",
    "sns.heatmap(heatmap_df, cmap='vlag', center=0, cbar_kws={'label': 'Spearman Correlation'})\n",
    "plt.title('Spearman Correlation with F8 (Liver-Specific Genes)')\n",
    "plt.xlabel('Gene')\n",
    "plt.ylabel('Tissue')\n",
    "plt.tight_layout()\n",
    "plt.show()"
   ]
  }
 ],
 "metadata": {
  "kernelspec": {
   "display_name": "amosbase8",
   "language": "python",
   "name": "python3"
  },
  "language_info": {
   "codemirror_mode": {
    "name": "ipython",
    "version": 3
   },
   "file_extension": ".py",
   "mimetype": "text/x-python",
   "name": "python",
   "nbconvert_exporter": "python",
   "pygments_lexer": "ipython3",
   "version": "3.12.4"
  }
 },
 "nbformat": 4,
 "nbformat_minor": 5
}
